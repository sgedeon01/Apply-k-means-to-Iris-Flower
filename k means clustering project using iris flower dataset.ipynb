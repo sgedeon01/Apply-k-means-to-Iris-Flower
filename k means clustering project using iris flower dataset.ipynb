{
 "cells": [
  {
   "cell_type": "code",
   "execution_count": 1,
   "metadata": {},
   "outputs": [
    {
     "name": "stdout",
     "output_type": "stream",
     "text": [
      "package 'kernlab' successfully unpacked and MD5 sums checked\n",
      "\n",
      "The downloaded binary packages are in\n",
      "\tC:\\Users\\sgede\\AppData\\Local\\Temp\\RtmpKc97mF\\downloaded_packages\n"
     ]
    }
   ],
   "source": [
    "install.packages(\"kernlab\")\n",
    "library(kernlab)"
   ]
  },
  {
   "cell_type": "code",
   "execution_count": 2,
   "metadata": {},
   "outputs": [
    {
     "name": "stdout",
     "output_type": "stream",
     "text": [
      "package 'kknn' successfully unpacked and MD5 sums checked\n",
      "\n",
      "The downloaded binary packages are in\n",
      "\tC:\\Users\\sgede\\AppData\\Local\\Temp\\RtmpKc97mF\\downloaded_packages\n"
     ]
    },
    {
     "name": "stderr",
     "output_type": "stream",
     "text": [
      "Warning message:\n",
      "\"package 'kknn' was built under R version 3.6.3\""
     ]
    }
   ],
   "source": [
    "install.packages(\"kknn\")\n",
    "library(kknn)"
   ]
  },
  {
   "cell_type": "code",
   "execution_count": 3,
   "metadata": {},
   "outputs": [
    {
     "name": "stderr",
     "output_type": "stream",
     "text": [
      "Warning message:\n",
      "\"package 'caret' was built under R version 3.6.3\"Loading required package: lattice\n",
      "Warning message:\n",
      "\"package 'lattice' was built under R version 3.6.3\"Loading required package: ggplot2\n",
      "\n",
      "Attaching package: 'ggplot2'\n",
      "\n",
      "The following object is masked from 'package:kernlab':\n",
      "\n",
      "    alpha\n",
      "\n",
      "\n",
      "Attaching package: 'caret'\n",
      "\n",
      "The following object is masked from 'package:kknn':\n",
      "\n",
      "    contr.dummy\n",
      "\n"
     ]
    },
    {
     "name": "stdout",
     "output_type": "stream",
     "text": [
      "\n",
      "  There is a binary version available but the source version is later:\n",
      "      binary source needs_compilation\n",
      "e1071  1.7-6  1.7-9              TRUE\n",
      "\n",
      "  Binaries will be installed\n",
      "package 'e1071' successfully unpacked and MD5 sums checked\n",
      "\n",
      "The downloaded binary packages are in\n",
      "\tC:\\Users\\sgede\\AppData\\Local\\Temp\\RtmpKc97mF\\downloaded_packages\n"
     ]
    }
   ],
   "source": [
    "library(caret)\n",
    "install.packages(\"e1071\")"
   ]
  },
  {
   "cell_type": "code",
   "execution_count": 4,
   "metadata": {},
   "outputs": [],
   "source": [
    "#open file\n",
    "iris <- read.csv(\"C:/Users/sgede/Datasets for Projects/iris.txt\", sep=\"\")"
   ]
  },
  {
   "cell_type": "code",
   "execution_count": 5,
   "metadata": {},
   "outputs": [
    {
     "data": {
      "text/html": [
       "<table>\n",
       "<thead><tr><th scope=col>Sepal.Length</th><th scope=col>Sepal.Width</th><th scope=col>Petal.Length</th><th scope=col>Petal.Width</th><th scope=col>Species</th></tr></thead>\n",
       "<tbody>\n",
       "\t<tr><td>5.1   </td><td>3.5   </td><td>1.4   </td><td>0.2   </td><td>setosa</td></tr>\n",
       "\t<tr><td>4.9   </td><td>3.0   </td><td>1.4   </td><td>0.2   </td><td>setosa</td></tr>\n",
       "\t<tr><td>4.7   </td><td>3.2   </td><td>1.3   </td><td>0.2   </td><td>setosa</td></tr>\n",
       "\t<tr><td>4.6   </td><td>3.1   </td><td>1.5   </td><td>0.2   </td><td>setosa</td></tr>\n",
       "\t<tr><td>5.0   </td><td>3.6   </td><td>1.4   </td><td>0.2   </td><td>setosa</td></tr>\n",
       "\t<tr><td>5.4   </td><td>3.9   </td><td>1.7   </td><td>0.4   </td><td>setosa</td></tr>\n",
       "</tbody>\n",
       "</table>\n"
      ],
      "text/latex": [
       "\\begin{tabular}{r|lllll}\n",
       " Sepal.Length & Sepal.Width & Petal.Length & Petal.Width & Species\\\\\n",
       "\\hline\n",
       "\t 5.1    & 3.5    & 1.4    & 0.2    & setosa\\\\\n",
       "\t 4.9    & 3.0    & 1.4    & 0.2    & setosa\\\\\n",
       "\t 4.7    & 3.2    & 1.3    & 0.2    & setosa\\\\\n",
       "\t 4.6    & 3.1    & 1.5    & 0.2    & setosa\\\\\n",
       "\t 5.0    & 3.6    & 1.4    & 0.2    & setosa\\\\\n",
       "\t 5.4    & 3.9    & 1.7    & 0.4    & setosa\\\\\n",
       "\\end{tabular}\n"
      ],
      "text/markdown": [
       "\n",
       "| Sepal.Length | Sepal.Width | Petal.Length | Petal.Width | Species |\n",
       "|---|---|---|---|---|\n",
       "| 5.1    | 3.5    | 1.4    | 0.2    | setosa |\n",
       "| 4.9    | 3.0    | 1.4    | 0.2    | setosa |\n",
       "| 4.7    | 3.2    | 1.3    | 0.2    | setosa |\n",
       "| 4.6    | 3.1    | 1.5    | 0.2    | setosa |\n",
       "| 5.0    | 3.6    | 1.4    | 0.2    | setosa |\n",
       "| 5.4    | 3.9    | 1.7    | 0.4    | setosa |\n",
       "\n"
      ],
      "text/plain": [
       "  Sepal.Length Sepal.Width Petal.Length Petal.Width Species\n",
       "1 5.1          3.5         1.4          0.2         setosa \n",
       "2 4.9          3.0         1.4          0.2         setosa \n",
       "3 4.7          3.2         1.3          0.2         setosa \n",
       "4 4.6          3.1         1.5          0.2         setosa \n",
       "5 5.0          3.6         1.4          0.2         setosa \n",
       "6 5.4          3.9         1.7          0.4         setosa "
      ]
     },
     "metadata": {},
     "output_type": "display_data"
    }
   ],
   "source": [
    "head(iris)"
   ]
  },
  {
   "cell_type": "code",
   "execution_count": 6,
   "metadata": {},
   "outputs": [
    {
     "data": {
      "text/plain": [
       "  Sepal.Length    Sepal.Width     Petal.Length    Petal.Width   \n",
       " Min.   :4.300   Min.   :2.000   Min.   :1.000   Min.   :0.100  \n",
       " 1st Qu.:5.100   1st Qu.:2.800   1st Qu.:1.600   1st Qu.:0.300  \n",
       " Median :5.800   Median :3.000   Median :4.350   Median :1.300  \n",
       " Mean   :5.843   Mean   :3.057   Mean   :3.758   Mean   :1.199  \n",
       " 3rd Qu.:6.400   3rd Qu.:3.300   3rd Qu.:5.100   3rd Qu.:1.800  \n",
       " Max.   :7.900   Max.   :4.400   Max.   :6.900   Max.   :2.500  \n",
       "       Species  \n",
       " setosa    :50  \n",
       " versicolor:50  \n",
       " virginica :50  \n",
       "                \n",
       "                \n",
       "                "
      ]
     },
     "metadata": {},
     "output_type": "display_data"
    }
   ],
   "source": [
    "#descriptive statistics\n",
    "summary(iris)"
   ]
  },
  {
   "cell_type": "code",
   "execution_count": 7,
   "metadata": {},
   "outputs": [],
   "source": [
    "#create new dataset with same data in order to remove response variable \"Species\" from dataset\n",
    "iris_2 <- iris\n",
    "iris_2$Species <- NULL"
   ]
  },
  {
   "cell_type": "code",
   "execution_count": 8,
   "metadata": {},
   "outputs": [
    {
     "data": {
      "text/plain": [
       "  Sepal.Length    Sepal.Width     Petal.Length    Petal.Width   \n",
       " Min.   :4.300   Min.   :2.000   Min.   :1.000   Min.   :0.100  \n",
       " 1st Qu.:5.100   1st Qu.:2.800   1st Qu.:1.600   1st Qu.:0.300  \n",
       " Median :5.800   Median :3.000   Median :4.350   Median :1.300  \n",
       " Mean   :5.843   Mean   :3.057   Mean   :3.758   Mean   :1.199  \n",
       " 3rd Qu.:6.400   3rd Qu.:3.300   3rd Qu.:5.100   3rd Qu.:1.800  \n",
       " Max.   :7.900   Max.   :4.400   Max.   :6.900   Max.   :2.500  "
      ]
     },
     "metadata": {},
     "output_type": "display_data"
    }
   ],
   "source": [
    "# check to make sure response variable has been removed\n",
    "summary(iris_2)"
   ]
  },
  {
   "cell_type": "code",
   "execution_count": 9,
   "metadata": {},
   "outputs": [
    {
     "data": {
      "text/html": [
       "<table>\n",
       "<thead><tr><th scope=col>Sepal.Length</th><th scope=col>Sepal.Width</th><th scope=col>Petal.Length</th><th scope=col>Petal.Width</th></tr></thead>\n",
       "<tbody>\n",
       "\t<tr><td>5.1</td><td>3.5</td><td>1.4</td><td>0.2</td></tr>\n",
       "\t<tr><td>4.9</td><td>3.0</td><td>1.4</td><td>0.2</td></tr>\n",
       "\t<tr><td>4.7</td><td>3.2</td><td>1.3</td><td>0.2</td></tr>\n",
       "\t<tr><td>4.6</td><td>3.1</td><td>1.5</td><td>0.2</td></tr>\n",
       "\t<tr><td>5.0</td><td>3.6</td><td>1.4</td><td>0.2</td></tr>\n",
       "\t<tr><td>5.4</td><td>3.9</td><td>1.7</td><td>0.4</td></tr>\n",
       "</tbody>\n",
       "</table>\n"
      ],
      "text/latex": [
       "\\begin{tabular}{r|llll}\n",
       " Sepal.Length & Sepal.Width & Petal.Length & Petal.Width\\\\\n",
       "\\hline\n",
       "\t 5.1 & 3.5 & 1.4 & 0.2\\\\\n",
       "\t 4.9 & 3.0 & 1.4 & 0.2\\\\\n",
       "\t 4.7 & 3.2 & 1.3 & 0.2\\\\\n",
       "\t 4.6 & 3.1 & 1.5 & 0.2\\\\\n",
       "\t 5.0 & 3.6 & 1.4 & 0.2\\\\\n",
       "\t 5.4 & 3.9 & 1.7 & 0.4\\\\\n",
       "\\end{tabular}\n"
      ],
      "text/markdown": [
       "\n",
       "| Sepal.Length | Sepal.Width | Petal.Length | Petal.Width |\n",
       "|---|---|---|---|\n",
       "| 5.1 | 3.5 | 1.4 | 0.2 |\n",
       "| 4.9 | 3.0 | 1.4 | 0.2 |\n",
       "| 4.7 | 3.2 | 1.3 | 0.2 |\n",
       "| 4.6 | 3.1 | 1.5 | 0.2 |\n",
       "| 5.0 | 3.6 | 1.4 | 0.2 |\n",
       "| 5.4 | 3.9 | 1.7 | 0.4 |\n",
       "\n"
      ],
      "text/plain": [
       "  Sepal.Length Sepal.Width Petal.Length Petal.Width\n",
       "1 5.1          3.5         1.4          0.2        \n",
       "2 4.9          3.0         1.4          0.2        \n",
       "3 4.7          3.2         1.3          0.2        \n",
       "4 4.6          3.1         1.5          0.2        \n",
       "5 5.0          3.6         1.4          0.2        \n",
       "6 5.4          3.9         1.7          0.4        "
      ]
     },
     "metadata": {},
     "output_type": "display_data"
    }
   ],
   "source": [
    "head(iris_2)"
   ]
  },
  {
   "cell_type": "code",
   "execution_count": 10,
   "metadata": {},
   "outputs": [],
   "source": [
    "# scale the iris_2 dataset\n",
    "iris_2 <- scale(iris_2)"
   ]
  },
  {
   "cell_type": "code",
   "execution_count": 11,
   "metadata": {},
   "outputs": [
    {
     "data": {
      "text/html": [
       "1"
      ],
      "text/latex": [
       "1"
      ],
      "text/markdown": [
       "1"
      ],
      "text/plain": [
       "[1] 1"
      ]
     },
     "metadata": {},
     "output_type": "display_data"
    }
   ],
   "source": [
    "# make sure scaling worked by checking variance\n",
    "var(iris_2[,1])"
   ]
  },
  {
   "cell_type": "code",
   "execution_count": 12,
   "metadata": {},
   "outputs": [
    {
     "data": {
      "text/html": [
       "<table>\n",
       "<thead><tr><th scope=col>Sepal.Length</th><th scope=col>Sepal.Width</th><th scope=col>Petal.Length</th><th scope=col>Petal.Width</th></tr></thead>\n",
       "<tbody>\n",
       "\t<tr><td>-0.8976739 </td><td> 1.01560199</td><td>-1.335752  </td><td>-1.311052  </td></tr>\n",
       "\t<tr><td>-1.1392005 </td><td>-0.13153881</td><td>-1.335752  </td><td>-1.311052  </td></tr>\n",
       "\t<tr><td>-1.3807271 </td><td> 0.32731751</td><td>-1.392399  </td><td>-1.311052  </td></tr>\n",
       "\t<tr><td>-1.5014904 </td><td> 0.09788935</td><td>-1.279104  </td><td>-1.311052  </td></tr>\n",
       "\t<tr><td>-1.0184372 </td><td> 1.24503015</td><td>-1.335752  </td><td>-1.311052  </td></tr>\n",
       "\t<tr><td>-0.5353840 </td><td> 1.93331463</td><td>-1.165809  </td><td>-1.048667  </td></tr>\n",
       "</tbody>\n",
       "</table>\n"
      ],
      "text/latex": [
       "\\begin{tabular}{r|llll}\n",
       " Sepal.Length & Sepal.Width & Petal.Length & Petal.Width\\\\\n",
       "\\hline\n",
       "\t -0.8976739  &  1.01560199 & -1.335752   & -1.311052  \\\\\n",
       "\t -1.1392005  & -0.13153881 & -1.335752   & -1.311052  \\\\\n",
       "\t -1.3807271  &  0.32731751 & -1.392399   & -1.311052  \\\\\n",
       "\t -1.5014904  &  0.09788935 & -1.279104   & -1.311052  \\\\\n",
       "\t -1.0184372  &  1.24503015 & -1.335752   & -1.311052  \\\\\n",
       "\t -0.5353840  &  1.93331463 & -1.165809   & -1.048667  \\\\\n",
       "\\end{tabular}\n"
      ],
      "text/markdown": [
       "\n",
       "| Sepal.Length | Sepal.Width | Petal.Length | Petal.Width |\n",
       "|---|---|---|---|\n",
       "| -0.8976739  |  1.01560199 | -1.335752   | -1.311052   |\n",
       "| -1.1392005  | -0.13153881 | -1.335752   | -1.311052   |\n",
       "| -1.3807271  |  0.32731751 | -1.392399   | -1.311052   |\n",
       "| -1.5014904  |  0.09788935 | -1.279104   | -1.311052   |\n",
       "| -1.0184372  |  1.24503015 | -1.335752   | -1.311052   |\n",
       "| -0.5353840  |  1.93331463 | -1.165809   | -1.048667   |\n",
       "\n"
      ],
      "text/plain": [
       "  Sepal.Length Sepal.Width Petal.Length Petal.Width\n",
       "1 -0.8976739    1.01560199 -1.335752    -1.311052  \n",
       "2 -1.1392005   -0.13153881 -1.335752    -1.311052  \n",
       "3 -1.3807271    0.32731751 -1.392399    -1.311052  \n",
       "4 -1.5014904    0.09788935 -1.279104    -1.311052  \n",
       "5 -1.0184372    1.24503015 -1.335752    -1.311052  \n",
       "6 -0.5353840    1.93331463 -1.165809    -1.048667  "
      ]
     },
     "metadata": {},
     "output_type": "display_data"
    }
   ],
   "source": [
    "head(iris_2)"
   ]
  },
  {
   "cell_type": "code",
   "execution_count": 13,
   "metadata": {},
   "outputs": [],
   "source": [
    "#run k-means clustering\n",
    "results_of_kmeans <- kmeans(iris_2, 3)"
   ]
  },
  {
   "cell_type": "code",
   "execution_count": 14,
   "metadata": {},
   "outputs": [
    {
     "data": {
      "text/plain": [
       "K-means clustering with 3 clusters of sizes 33, 96, 21\n",
       "\n",
       "Cluster means:\n",
       "  Sepal.Length Sepal.Width Petal.Length Petal.Width\n",
       "1   -0.8135055   1.3145538   -1.2825372  -1.2156393\n",
       "2    0.5690971  -0.3705265    0.6888118   0.6609378\n",
       "3   -1.3232208  -0.3718921   -1.1334386  -1.1111395\n",
       "\n",
       "Clustering vector:\n",
       "  1   2   3   4   5   6   7   8   9  10  11  12  13  14  15  16  17  18  19  20 \n",
       "  1   3   3   3   1   1   1   1   3   3   1   1   3   3   1   1   1   1   1   1 \n",
       " 21  22  23  24  25  26  27  28  29  30  31  32  33  34  35  36  37  38  39  40 \n",
       "  1   1   1   1   1   3   1   1   1   3   3   1   1   1   3   3   1   1   3   1 \n",
       " 41  42  43  44  45  46  47  48  49  50  51  52  53  54  55  56  57  58  59  60 \n",
       "  1   3   3   1   1   3   1   3   1   1   2   2   2   2   2   2   2   3   2   2 \n",
       " 61  62  63  64  65  66  67  68  69  70  71  72  73  74  75  76  77  78  79  80 \n",
       "  3   2   2   2   2   2   2   2   2   2   2   2   2   2   2   2   2   2   2   2 \n",
       " 81  82  83  84  85  86  87  88  89  90  91  92  93  94  95  96  97  98  99 100 \n",
       "  2   2   2   2   2   2   2   2   2   2   2   2   2   3   2   2   2   2   3   2 \n",
       "101 102 103 104 105 106 107 108 109 110 111 112 113 114 115 116 117 118 119 120 \n",
       "  2   2   2   2   2   2   2   2   2   2   2   2   2   2   2   2   2   2   2   2 \n",
       "121 122 123 124 125 126 127 128 129 130 131 132 133 134 135 136 137 138 139 140 \n",
       "  2   2   2   2   2   2   2   2   2   2   2   2   2   2   2   2   2   2   2   2 \n",
       "141 142 143 144 145 146 147 148 149 150 \n",
       "  2   2   2   2   2   2   2   2   2   2 \n",
       "\n",
       "Within cluster sum of squares by cluster:\n",
       "[1]  17.33362 149.25899  23.15862\n",
       " (between_SS / total_SS =  68.2 %)\n",
       "\n",
       "Available components:\n",
       "\n",
       "[1] \"cluster\"      \"centers\"      \"totss\"        \"withinss\"     \"tot.withinss\"\n",
       "[6] \"betweenss\"    \"size\"         \"iter\"         \"ifault\"      "
      ]
     },
     "metadata": {},
     "output_type": "display_data"
    }
   ],
   "source": [
    "#display k-means clustering\n",
    "results_of_kmeans"
   ]
  },
  {
   "cell_type": "code",
   "execution_count": 15,
   "metadata": {},
   "outputs": [
    {
     "data": {
      "text/plain": [
       "            \n",
       "              1  2  3\n",
       "  setosa     33  0 17\n",
       "  versicolor  0 46  4\n",
       "  virginica   0 50  0"
      ]
     },
     "metadata": {},
     "output_type": "display_data"
    }
   ],
   "source": [
    "#see how k-means clustering did by comparing response variable \"Species\" in original dataset with \"cluster in results of kmeans\" by generating a table\n",
    "table(iris$Species, results_of_kmeans$cluster)"
   ]
  },
  {
   "cell_type": "code",
   "execution_count": 16,
   "metadata": {},
   "outputs": [
    {
     "data": {
      "text/html": [
       "'Total number of correctly classified instances are: 50 + 39 + 36 = 125'"
      ],
      "text/latex": [
       "'Total number of correctly classified instances are: 50 + 39 + 36 = 125'"
      ],
      "text/markdown": [
       "'Total number of correctly classified instances are: 50 + 39 + 36 = 125'"
      ],
      "text/plain": [
       "[1] \"Total number of correctly classified instances are: 50 + 39 + 36 = 125\""
      ]
     },
     "metadata": {},
     "output_type": "display_data"
    },
    {
     "data": {
      "text/html": [
       "'Total number of incorrectly classified instances are: 11 + 14 = 25'"
      ],
      "text/latex": [
       "'Total number of incorrectly classified instances are: 11 + 14 = 25'"
      ],
      "text/markdown": [
       "'Total number of incorrectly classified instances are: 11 + 14 = 25'"
      ],
      "text/plain": [
       "[1] \"Total number of incorrectly classified instances are: 11 + 14 = 25\""
      ]
     },
     "metadata": {},
     "output_type": "display_data"
    },
    {
     "data": {
      "text/html": [
       "'Accuracy = 125/(125+25) = (125/150)*100 =83.33%'"
      ],
      "text/latex": [
       "'Accuracy = 125/(125+25) = (125/150)*100 =83.33\\%'"
      ],
      "text/markdown": [
       "'Accuracy = 125/(125+25) = (125/150)*100 =83.33%'"
      ],
      "text/plain": [
       "[1] \"Accuracy = 125/(125+25) = (125/150)*100 =83.33%\""
      ]
     },
     "metadata": {},
     "output_type": "display_data"
    }
   ],
   "source": [
    "\"Total number of correctly classified instances are: 50 + 39 + 36 = 125\"\n",
    "\"Total number of incorrectly classified instances are: 11 + 14 = 25\"\n",
    "\"Accuracy = 125/(125+25) = (125/150)*100 =83.33%\""
   ]
  },
  {
   "cell_type": "code",
   "execution_count": 17,
   "metadata": {},
   "outputs": [
    {
     "data": {
      "image/png": "[encoded data removed]",
      "text/plain": [
       "plot without title"
      ]
     },
     "metadata": {},
     "output_type": "display_data"
    }
   ],
   "source": [
    "#plot results showing Petal Length and Petal Width for every observation and show grouping by color\n",
    "plot(iris[c(\"Petal.Length\", \"Petal.Width\")], col = results_of_kmeans$cluster)"
   ]
  },
  {
   "cell_type": "code",
   "execution_count": 18,
   "metadata": {},
   "outputs": [
    {
     "data": {
      "image/png": "[encoded data removed]",
      "text/plain": [
       "plot without title"
      ]
     },
     "metadata": {},
     "output_type": "display_data"
    }
   ],
   "source": [
    "#plot results for \"Petal Length\" and \"Petal Width\" showing color based on original dataset response variable \"Species\"\n",
    "plot(iris[c(\"Petal.Length\", \"Petal.Width\")], col = iris$Species)"
   ]
  },
  {
   "cell_type": "code",
   "execution_count": 19,
   "metadata": {},
   "outputs": [
    {
     "data": {
      "image/png": "[encoded data removed]",
      "text/plain": [
       "plot without title"
      ]
     },
     "metadata": {},
     "output_type": "display_data"
    }
   ],
   "source": [
    "#plot results showing Sepal Length and Sepal Width for every observation and show grouping by color\n",
    "plot(iris[c(\"Sepal.Length\", \"Sepal.Width\")], col = results_of_kmeans$cluster)"
   ]
  },
  {
   "cell_type": "code",
   "execution_count": 20,
   "metadata": {},
   "outputs": [
    {
     "data": {
      "image/png": "[encoded data removed]",
      "text/plain": [
       "plot without title"
      ]
     },
     "metadata": {},
     "output_type": "display_data"
    }
   ],
   "source": [
    "#plot Sepal Length and Sepal Width results showing color based on original dataset response variable \"Species\"\n",
    "plot(iris[c(\"Sepal.Length\", \"Sepal.Width\")], col = iris$Species)"
   ]
  },
  {
   "cell_type": "code",
   "execution_count": 21,
   "metadata": {},
   "outputs": [
    {
     "data": {
      "text/html": [
       "'Based on the plots above the Petal Length and Petal Width are the better combination of predictors than Sepal Length and Sepal Width based on k value of 3'"
      ],
      "text/latex": [
       "'Based on the plots above the Petal Length and Petal Width are the better combination of predictors than Sepal Length and Sepal Width based on k value of 3'"
      ],
      "text/markdown": [
       "'Based on the plots above the Petal Length and Petal Width are the better combination of predictors than Sepal Length and Sepal Width based on k value of 3'"
      ],
      "text/plain": [
       "[1] \"Based on the plots above the Petal Length and Petal Width are the better combination of predictors than Sepal Length and Sepal Width based on k value of 3\""
      ]
     },
     "metadata": {},
     "output_type": "display_data"
    }
   ],
   "source": [
    "\"Based on the plots above the Petal Length and Petal Width are the better combination of predictors than Sepal Length and Sepal Width based on k value of 3\""
   ]
  },
  {
   "cell_type": "code",
   "execution_count": 22,
   "metadata": {},
   "outputs": [
    {
     "name": "stdout",
     "output_type": "stream",
     "text": [
      "package 'NbClust' successfully unpacked and MD5 sums checked\n",
      "\n",
      "The downloaded binary packages are in\n",
      "\tC:\\Users\\sgede\\AppData\\Local\\Temp\\RtmpKc97mF\\downloaded_packages\n"
     ]
    }
   ],
   "source": [
    "# install NbClust package to run wssplot to determine k value via elbow method\n",
    "install.packages(\"NbClust\")"
   ]
  },
  {
   "cell_type": "code",
   "execution_count": 23,
   "metadata": {},
   "outputs": [],
   "source": [
    "# load library to run wss plot function and determine optimal k value via elbow method\n",
    "library(NbClust)"
   ]
  },
  {
   "cell_type": "code",
   "execution_count": 24,
   "metadata": {},
   "outputs": [
    {
     "data": {
      "text/html": [
       "<ol class=list-inline>\n",
       "\t<li>596</li>\n",
       "\t<li>220.879293598589</li>\n",
       "\t<li>138.888359717351</li>\n",
       "\t<li>113.649811406835</li>\n",
       "\t<li>102.88753606992</li>\n",
       "\t<li>94.9382194502328</li>\n",
       "\t<li>86.5046364257666</li>\n",
       "\t<li>79.8441386013668</li>\n",
       "\t<li>76.1067053429928</li>\n",
       "\t<li>74.3271544154628</li>\n",
       "\t<li>72.5414207783869</li>\n",
       "\t<li>67.4655979967338</li>\n",
       "\t<li>63.675952678793</li>\n",
       "\t<li>63.0609448342415</li>\n",
       "\t<li>39.415171636519</li>\n",
       "</ol>\n"
      ],
      "text/latex": [
       "\\begin{enumerate*}\n",
       "\\item 596\n",
       "\\item 220.879293598589\n",
       "\\item 138.888359717351\n",
       "\\item 113.649811406835\n",
       "\\item 102.88753606992\n",
       "\\item 94.9382194502328\n",
       "\\item 86.5046364257666\n",
       "\\item 79.8441386013668\n",
       "\\item 76.1067053429928\n",
       "\\item 74.3271544154628\n",
       "\\item 72.5414207783869\n",
       "\\item 67.4655979967338\n",
       "\\item 63.675952678793\n",
       "\\item 63.0609448342415\n",
       "\\item 39.415171636519\n",
       "\\end{enumerate*}\n"
      ],
      "text/markdown": [
       "1. 596\n",
       "2. 220.879293598589\n",
       "3. 138.888359717351\n",
       "4. 113.649811406835\n",
       "5. 102.88753606992\n",
       "6. 94.9382194502328\n",
       "7. 86.5046364257666\n",
       "8. 79.8441386013668\n",
       "9. 76.1067053429928\n",
       "10. 74.3271544154628\n",
       "11. 72.5414207783869\n",
       "12. 67.4655979967338\n",
       "13. 63.675952678793\n",
       "14. 63.0609448342415\n",
       "15. 39.415171636519\n",
       "\n",
       "\n"
      ],
      "text/plain": [
       " [1] 596.00000 220.87929 138.88836 113.64981 102.88754  94.93822  86.50464\n",
       " [8]  79.84414  76.10671  74.32715  72.54142  67.46560  63.67595  63.06094\n",
       "[15]  39.41517"
      ]
     },
     "metadata": {},
     "output_type": "display_data"
    },
    {
     "data": {
      "image/png": "[encoded data removed]",
      "text/plain": [
       "plot without title"
      ]
     },
     "metadata": {},
     "output_type": "display_data"
    }
   ],
   "source": [
    "# run wss plot showing elbow method to choose optimum number of clusters\n",
    "wssplot <- function(iris_2, nc=15, seed=1234){\n",
    "  wss <- (nrow(iris_2)-1)*sum(apply(iris_2,2,var))\n",
    "  for (i in 2:nc){\n",
    "    set.seed(seed)\n",
    "    wss[i] <- sum(kmeans(iris_2, centers=i)$withinss)}\n",
    "  plot(1:nc, wss, type=\"b\", xlab=\"Number of Clusters\",\n",
    "       ylab=\"Within Groups Sum of Squares\")\n",
    "  wss\n",
    "}\n",
    "\n",
    "wssplot(iris_2)"
   ]
  },
  {
   "cell_type": "code",
   "execution_count": 25,
   "metadata": {},
   "outputs": [
    {
     "data": {
      "text/html": [
       "'The elbow method shows the optimal number of cluters is 3'"
      ],
      "text/latex": [
       "'The elbow method shows the optimal number of cluters is 3'"
      ],
      "text/markdown": [
       "'The elbow method shows the optimal number of cluters is 3'"
      ],
      "text/plain": [
       "[1] \"The elbow method shows the optimal number of cluters is 3\""
      ]
     },
     "metadata": {},
     "output_type": "display_data"
    }
   ],
   "source": [
    "\"The elbow method shows the optimal number of cluters is 3\""
   ]
  },
  {
   "cell_type": "code",
   "execution_count": 26,
   "metadata": {},
   "outputs": [
    {
     "data": {
      "text/plain": [
       "            \n",
       "              1  2  3\n",
       "  setosa      0  0 50\n",
       "  versicolor 48  2  0\n",
       "  virginica   4 46  0"
      ]
     },
     "metadata": {},
     "output_type": "display_data"
    }
   ],
   "source": [
    "#final cluster model with Petal Length and Petal Width\n",
    "final_cluster <- kmeans(iris_2[,3:4],3,nstart = 20)\n",
    "table(iris$Species, final_cluster$cluster)"
   ]
  },
  {
   "cell_type": "code",
   "execution_count": 27,
   "metadata": {},
   "outputs": [
    {
     "data": {
      "text/html": [
       "'Final Cluster Model'"
      ],
      "text/latex": [
       "'Final Cluster Model'"
      ],
      "text/markdown": [
       "'Final Cluster Model'"
      ],
      "text/plain": [
       "[1] \"Final Cluster Model\""
      ]
     },
     "metadata": {},
     "output_type": "display_data"
    },
    {
     "data": {
      "text/html": [
       "'Total number of correctly classified instances are: 50 + 48 + 46 = 144'"
      ],
      "text/latex": [
       "'Total number of correctly classified instances are: 50 + 48 + 46 = 144'"
      ],
      "text/markdown": [
       "'Total number of correctly classified instances are: 50 + 48 + 46 = 144'"
      ],
      "text/plain": [
       "[1] \"Total number of correctly classified instances are: 50 + 48 + 46 = 144\""
      ]
     },
     "metadata": {},
     "output_type": "display_data"
    },
    {
     "data": {
      "text/html": [
       "'Total number of incorrectly classified instances are: 2 + 4 = 6'"
      ],
      "text/latex": [
       "'Total number of incorrectly classified instances are: 2 + 4 = 6'"
      ],
      "text/markdown": [
       "'Total number of incorrectly classified instances are: 2 + 4 = 6'"
      ],
      "text/plain": [
       "[1] \"Total number of incorrectly classified instances are: 2 + 4 = 6\""
      ]
     },
     "metadata": {},
     "output_type": "display_data"
    },
    {
     "data": {
      "text/html": [
       "'Accuracy = 144/(144+6) = (144/150)*100 =96%'"
      ],
      "text/latex": [
       "'Accuracy = 144/(144+6) = (144/150)*100 =96\\%'"
      ],
      "text/markdown": [
       "'Accuracy = 144/(144+6) = (144/150)*100 =96%'"
      ],
      "text/plain": [
       "[1] \"Accuracy = 144/(144+6) = (144/150)*100 =96%\""
      ]
     },
     "metadata": {},
     "output_type": "display_data"
    }
   ],
   "source": [
    "\"Final Cluster Model\"\n",
    "\"Total number of correctly classified instances are: 50 + 48 + 46 = 144\"\n",
    "\"Total number of incorrectly classified instances are: 2 + 4 = 6\"\n",
    "\"Accuracy = 144/(144+6) = (144/150)*100 =96%\""
   ]
  }
 ],
 "metadata": {
  "kernelspec": {
   "display_name": "R",
   "language": "R",
   "name": "ir"
  },
  "language_info": {
   "codemirror_mode": "r",
   "file_extension": ".r",
   "mimetype": "text/x-r-source",
   "name": "R",
   "pygments_lexer": "r",
   "version": "3.6.1"
  }
 },
 "nbformat": 4,
 "nbformat_minor": 2
}
